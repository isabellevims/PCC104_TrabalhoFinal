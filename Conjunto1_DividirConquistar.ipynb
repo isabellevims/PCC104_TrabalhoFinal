{
  "nbformat": 4,
  "nbformat_minor": 0,
  "metadata": {
    "colab": {
      "provenance": [],
      "authorship_tag": "ABX9TyMyiAimLj3bmnDlnPCaQGvz",
      "include_colab_link": true
    },
    "kernelspec": {
      "name": "python3",
      "display_name": "Python 3"
    },
    "language_info": {
      "name": "python"
    }
  },
  "cells": [
    {
      "cell_type": "markdown",
      "metadata": {
        "id": "view-in-github",
        "colab_type": "text"
      },
      "source": [
        "<a href=\"https://colab.research.google.com/github/isabellevims/PCC104_TrabalhoFinal/blob/main/Conjunto1_DividirConquistar.ipynb\" target=\"_parent\"><img src=\"https://colab.research.google.com/assets/colab-badge.svg\" alt=\"Open In Colab\"/></a>"
      ]
    },
    {
      "cell_type": "markdown",
      "source": [
        "**Instruções**\n",
        "\n",
        "*  Para cada conjunto de algoritmos o aluno deve escolher um.\n",
        "*  O aluno deve criar um repositório público no github com todos os códigos desenvolvidos.\n",
        "*  Em cada implementação o aluno deve:\n",
        "\n",
        "1. Apresentar 3 casos de teste\n",
        "2. Estar preparado para desenvolver a análise de custo\n",
        "3. Estar preparado para responder perguntas sobre o seu próprio código, sobre o algoritmo e sobre o problema que o algoritmo resolve\n",
        "\n",
        "\n",
        "# **Conjunto 1 - Dividir e Conquistar**\n",
        "*Capítulo 5 - Introduction to the Design and Analysis of Algorithms (3rd Edition) by Anany Levitin*\n",
        "1. Implemente o algoritmo MergeSort.\n",
        "2. Implemente o algoritmo QuickSort.\n",
        "3. Implemete um árvore binária e seus algoritmo de caminhamento:\n",
        "(a) pre-order\n",
        "(b) pos-order\n",
        "(c) in-order\n"
      ],
      "metadata": {
        "id": "AkJ3SRdLnEsu"
      }
    },
    {
      "cell_type": "code",
      "source": [],
      "metadata": {
        "id": "tFDRd09lpOvK"
      },
      "execution_count": null,
      "outputs": []
    }
  ]
}