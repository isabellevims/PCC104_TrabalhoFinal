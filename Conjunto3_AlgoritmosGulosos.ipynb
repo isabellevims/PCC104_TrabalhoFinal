{
  "nbformat": 4,
  "nbformat_minor": 0,
  "metadata": {
    "colab": {
      "provenance": [],
      "authorship_tag": "ABX9TyOOw5ZhhrSmu5rwOzIjkfLZ",
      "include_colab_link": true
    },
    "kernelspec": {
      "name": "python3",
      "display_name": "Python 3"
    },
    "language_info": {
      "name": "python"
    }
  },
  "cells": [
    {
      "cell_type": "markdown",
      "metadata": {
        "id": "view-in-github",
        "colab_type": "text"
      },
      "source": [
        "<a href=\"https://colab.research.google.com/github/isabellevims/PCC104_TrabalhoFinal/blob/main/Conjunto3_AlgoritmosGulosos.ipynb\" target=\"_parent\"><img src=\"https://colab.research.google.com/assets/colab-badge.svg\" alt=\"Open In Colab\"/></a>"
      ]
    },
    {
      "cell_type": "markdown",
      "source": [
        "**Instruções**\n",
        "\n",
        "*  Para cada conjunto de algoritmos o aluno deve escolher um.\n",
        "*  O aluno deve criar um repositório público no github com todos os códigos desenvolvidos.\n",
        "*  Em cada implementação o aluno deve:\n",
        "\n",
        "1. Apresentar 3 casos de teste\n",
        "2. Estar preparado para desenvolver a análise de custo\n",
        "3. Estar preparado para responder perguntas sobre o seu próprio código, sobre o algoritmo e sobre o problema que o algoritmo resolve\n",
        "\n",
        "\n",
        "# **Conjunto 3 - Algoritmos Gulosos**\n",
        "*Capítulo 9 - Introduction to the Design and Analysis of Algorithms (3rd Edition) by Anany Levitin*\n",
        "1. Implemente o algoritmo de Prim.\n",
        "2. Implemente o algorimo de Kruskall.\n",
        "3. Implemente o algoritmo de Dijkstra"
      ],
      "metadata": {
        "id": "Ai6u-P8coy92"
      }
    },
    {
      "cell_type": "markdown",
      "source": [
        "\n",
        "\n",
        "---\n",
        "\n",
        "**Algoritmo de Dijkstrat**\n",
        "\n",
        "---"
      ],
      "metadata": {
        "id": "LAFFmzNw-ESr"
      }
    },
    {
      "cell_type": "code",
      "source": [
        "import heapq\n",
        "\n",
        "def dijkstra(grafo, inicio):\n",
        "    # Inicializa as distâncias e o heap de prioridade\n",
        "    distancias = {vertice: float('infinity') for vertice in grafo}\n",
        "    distancias[inicio] = 0\n",
        "    heap = [(0, inicio)]\n",
        "\n",
        "    while heap:\n",
        "        distancia_atual, vertice_atual = heapq.heappop(heap)\n",
        "\n",
        "        if distancia_atual > distancias[vertice_atual]:\n",
        "            continue\n",
        "\n",
        "        for vizinho, peso in grafo[vertice_atual].items():\n",
        "            distancia = distancia_atual + peso\n",
        "\n",
        "            if distancia < distancias[vizinho]:\n",
        "                distancias[vizinho] = distancia\n",
        "                heapq.heappush(heap, (distancia, vizinho))\n",
        "\n",
        "    return distancias\n",
        "\n",
        "# Casos de teste\n",
        "grafo1 = {\n",
        "    'A': {'B': 1, 'C': 4},\n",
        "    'B': {'A': 1, 'C': 2, 'D': 5},\n",
        "    'C': {'A': 4, 'B': 2, 'D': 1},\n",
        "    'D': {'B': 5, 'C': 1}\n",
        "}\n",
        "inicio1 = 'A'\n",
        "\n",
        "grafo2 = {\n",
        "    'A': {'B': 2, 'D': 1},\n",
        "    'B': {'A': 2, 'C': 3},\n",
        "    'C': {'B': 3, 'D': 1},\n",
        "    'D': {'A': 1, 'C': 1}\n",
        "}\n",
        "inicio2 = 'A'\n",
        "\n",
        "grafo3 = {\n",
        "    'A': {'B': 10, 'C': 3},\n",
        "    'B': {'C': 1, 'D': 2},\n",
        "    'C': {'B': 4, 'D': 8, 'E': 2},\n",
        "    'D': {'E': 7},\n",
        "    'E': {'D': 9}\n",
        "}\n",
        "inicio3 = 'A'\n",
        "\n",
        "# Executar os casos de teste\n",
        "distancias1 = dijkstra(grafo1, inicio1)\n",
        "distancias2 = dijkstra(grafo2, inicio2)\n",
        "distancias3 = dijkstra(grafo3, inicio3)\n",
        "\n",
        "print(f\"Distâncias a partir do vértice {inicio1}: {distancias1}\")\n",
        "print(f\"Distâncias a partir do vértice {inicio2}: {distancias2}\")\n",
        "print(f\"Distâncias a partir do vértice {inicio3}: {distancias3}\")"
      ],
      "metadata": {
        "colab": {
          "base_uri": "https://localhost:8080/"
        },
        "id": "tl0xybkqQaoQ",
        "outputId": "4a3badd3-893a-4713-ff5f-5d5cfae036ec"
      },
      "execution_count": null,
      "outputs": [
        {
          "output_type": "stream",
          "name": "stdout",
          "text": [
            "Distâncias a partir do vértice A: {'A': 0, 'B': 1, 'C': 3, 'D': 4}\n",
            "Distâncias a partir do vértice A: {'A': 0, 'B': 2, 'C': 2, 'D': 1}\n",
            "Distâncias a partir do vértice A: {'A': 0, 'B': 7, 'C': 3, 'D': 9, 'E': 5}\n"
          ]
        }
      ]
    }
  ]
}