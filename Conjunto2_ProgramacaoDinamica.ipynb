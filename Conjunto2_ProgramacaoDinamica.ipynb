{
  "nbformat": 4,
  "nbformat_minor": 0,
  "metadata": {
    "colab": {
      "provenance": [],
      "authorship_tag": "ABX9TyOQcCxAN3QwyVGnrxBQf8ra",
      "include_colab_link": true
    },
    "kernelspec": {
      "name": "python3",
      "display_name": "Python 3"
    },
    "language_info": {
      "name": "python"
    }
  },
  "cells": [
    {
      "cell_type": "markdown",
      "metadata": {
        "id": "view-in-github",
        "colab_type": "text"
      },
      "source": [
        "<a href=\"https://colab.research.google.com/github/isabellevims/PCC104_TrabalhoFinal/blob/main/Conjunto2_ProgramacaoDinamica.ipynb\" target=\"_parent\"><img src=\"https://colab.research.google.com/assets/colab-badge.svg\" alt=\"Open In Colab\"/></a>"
      ]
    },
    {
      "cell_type": "markdown",
      "source": [
        "**Instruções**\n",
        "\n",
        "*  Para cada conjunto de algoritmos o aluno deve escolher um.\n",
        "*  O aluno deve criar um repositório público no github com todos os códigos desenvolvidos.\n",
        "*  Em cada implementação o aluno deve:\n",
        "\n",
        "1. Apresentar 3 casos de teste\n",
        "2. Estar preparado para desenvolver a análise de custo\n",
        "3. Estar preparado para responder perguntas sobre o seu próprio código, sobre o algoritmo e sobre o problema que o algoritmo resolve\n",
        "\n",
        "\n",
        "# **Conjunto 2 - Programação Dinâmica**\n",
        "*Capítulo 8 - Introduction to the Design and Analysis of Algorithms (3rd Edition) by Anany Levitin*\n",
        "1. Implemente os dois algoritmos baseados em programação dinâmica para o problem da mochila. (Seção 8.2)\n",
        "\n",
        "\n",
        "\n"
      ],
      "metadata": {
        "id": "MIFw3Eq4oxC0"
      }
    },
    {
      "cell_type": "markdown",
      "source": [
        "\n",
        "\n",
        "---\n",
        "\n",
        "**Problema da Mochila 0/1**\n",
        "\n",
        "---\n",
        "\n"
      ],
      "metadata": {
        "id": "gL1k7PSYSn8W"
      }
    },
    {
      "cell_type": "code",
      "source": [
        "##Problema da Mochila 0/1\n",
        "\n",
        "def mochila_01(pesos, valores, capacidade):\n",
        "    n = len(pesos)\n",
        "    dp = [[0 for _ in range(capacidade + 1)] for _ in range(n + 1)]\n",
        "\n",
        "    for i in range(1, n + 1):\n",
        "        for w in range(1, capacidade + 1):\n",
        "            if pesos[i-1] <= w:\n",
        "                dp[i][w] = max(dp[i-1][w], dp[i-1][w-pesos[i-1]] + valores[i-1])\n",
        "            else:\n",
        "                dp[i][w] = dp[i-1][w]\n",
        "\n",
        "    return dp[n][capacidade]\n",
        "\n",
        "# Casos de teste\n",
        "casos_teste_01 = [\n",
        "    ([2, 3, 4, 5], [3, 4, 5, 6], 5),\n",
        "    ([1, 2, 3], [10, 15, 40], 6),\n",
        "    ([10, 20, 30], [60, 100, 120], 50)\n",
        "]\n",
        "\n",
        "for pesos, valores, capacidade in casos_teste_01:\n",
        "    print(f\"Solução ótima mochila_01({pesos}, {valores}, {capacidade}) = {mochila_01(pesos, valores, capacidade)}\")\n"
      ],
      "metadata": {
        "colab": {
          "base_uri": "https://localhost:8080/"
        },
        "id": "kTN79KoN83wP",
        "outputId": "bf8ad583-4f31-4a37-847f-c53708e9aac5"
      },
      "execution_count": null,
      "outputs": [
        {
          "output_type": "stream",
          "name": "stdout",
          "text": [
            "Solução ótima mochila_01([2, 3, 4, 5], [3, 4, 5, 6], 5) = 7\n",
            "Solução ótima mochila_01([1, 2, 3], [10, 15, 40], 6) = 65\n",
            "Solução ótima mochila_01([10, 20, 30], [60, 100, 120], 50) = 220\n"
          ]
        }
      ]
    },
    {
      "cell_type": "markdown",
      "source": [
        "\n",
        "\n",
        "---\n",
        "\n",
        "**Problema da Mochila com Repetição de Itens**\n",
        "\n",
        "---\n"
      ],
      "metadata": {
        "id": "fi-0mzpPStbA"
      }
    },
    {
      "cell_type": "code",
      "source": [
        "##Problema da Mochila com Repetição de Itens\n",
        "\n",
        "def mochila_repeticao(capacidade, pesos, valores, n):\n",
        "    K = [0 for x in range(capacidade + 1)]\n",
        "\n",
        "    for w in range(capacidade + 1):\n",
        "        for i in range(n):\n",
        "            if pesos[i] <= w:\n",
        "                K[w] = max(K[w], K[w - pesos[i]] + valores[i])\n",
        "\n",
        "    return K[capacidade]\n",
        "\n",
        "# Casos de teste\n",
        "casos_teste_repeticao = [\n",
        "    ([10, 40, 50, 70], [1, 3, 4, 5], 8),\n",
        "    ([10, 30, 20], [5, 10, 15], 100),\n",
        "    ([6, 10, 12], [1, 2, 3], 5)\n",
        "]\n",
        "\n",
        "for valores, pesos, capacidade in casos_teste_repeticao:\n",
        "    print(f\"Solução ótima mochila_repeticao({capacidade}, {pesos}, {valores}, {len(valores)}) = {mochila_com_repeticao(capacidade, pesos, valores, len(valores))}\")"
      ],
      "metadata": {
        "colab": {
          "base_uri": "https://localhost:8080/"
        },
        "id": "gW7HbSceOOuW",
        "outputId": "75d71d55-932e-4541-f957-0278ec45e43b"
      },
      "execution_count": null,
      "outputs": [
        {
          "output_type": "stream",
          "name": "stdout",
          "text": [
            "Solução ótima mochila_repeticao(8, [1, 3, 4, 5], [10, 40, 50, 70], 4) = 110\n",
            "Solução ótima mochila_repeticao(100, [5, 10, 15], [10, 30, 20], 3) = 300\n",
            "Solução ótima mochila_repeticao(5, [1, 2, 3], [6, 10, 12], 3) = 30\n"
          ]
        }
      ]
    }
  ]
}