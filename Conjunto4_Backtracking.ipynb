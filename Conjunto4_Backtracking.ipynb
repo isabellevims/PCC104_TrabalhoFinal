{
  "nbformat": 4,
  "nbformat_minor": 0,
  "metadata": {
    "colab": {
      "provenance": [],
      "authorship_tag": "ABX9TyPoatRuovC/rx4FVLvgOvcw",
      "include_colab_link": true
    },
    "kernelspec": {
      "name": "python3",
      "display_name": "Python 3"
    },
    "language_info": {
      "name": "python"
    }
  },
  "cells": [
    {
      "cell_type": "markdown",
      "metadata": {
        "id": "view-in-github",
        "colab_type": "text"
      },
      "source": [
        "<a href=\"https://colab.research.google.com/github/isabellevims/PCC104_TrabalhoFinal/blob/main/Conjunto4_Backtracking.ipynb\" target=\"_parent\"><img src=\"https://colab.research.google.com/assets/colab-badge.svg\" alt=\"Open In Colab\"/></a>"
      ]
    },
    {
      "cell_type": "markdown",
      "source": [
        "**Instruções**\n",
        "\n",
        "*  Para cada conjunto de algoritmos o aluno deve escolher um.\n",
        "*  O aluno deve criar um repositório público no github com todos os códigos desenvolvidos.\n",
        "*  Em cada implementação o aluno deve:\n",
        "\n",
        "1. Apresentar 3 casos de teste\n",
        "2. Estar preparado para desenvolver a análise de custo\n",
        "3. Estar preparado para responder perguntas sobre o seu próprio código, sobre o algoritmo e sobre o problema que o algoritmo resolve\n",
        "\n",
        "\n",
        "# **Conjunto 4 - Backtracking**\n",
        "*Seção 12.1 - Introduction to the Design and Analysis of Algorithms (3rd Edition) by Anany Levitin*\n",
        "1. Implemente um algoritmo baseado em backtracking para o problema das n-rainhas.\n",
        "2. Implemente um algoritmo baseado em backtracking para o problema (subset-sum)."
      ],
      "metadata": {
        "id": "05E74h1eo0ju"
      }
    },
    {
      "cell_type": "markdown",
      "source": [
        "\n",
        "\n",
        "---\n",
        "\n",
        "**Algoritmo subset-sum**\n",
        "\n",
        "\n",
        "---\n",
        "\n"
      ],
      "metadata": {
        "id": "fQ_IT-mG-Z5i"
      }
    },
    {
      "cell_type": "code",
      "source": [
        "def subset_sum(conjunto, soma_alvo):\n",
        "    resultado = []\n",
        "\n",
        "    def backtrack(subconjunto_atual, indice_atual, soma_atual):\n",
        "        if soma_atual == soma_alvo:\n",
        "            resultado.append(list(subconjunto_atual))\n",
        "            return\n",
        "        if soma_atual > soma_alvo or indice_atual >= len(conjunto):\n",
        "            return\n",
        "\n",
        "        # Incluir o elemento atual no subconjunto\n",
        "        subconjunto_atual.append(conjunto[indice_atual])\n",
        "        backtrack(subconjunto_atual, indice_atual + 1, soma_atual + conjunto[indice_atual])\n",
        "\n",
        "        # Excluir o elemento atual do subconjunto\n",
        "        subconjunto_atual.pop()\n",
        "        backtrack(subconjunto_atual, indice_atual + 1, soma_atual)\n",
        "\n",
        "    backtrack([], 0, 0)\n",
        "    return resultado\n",
        "\n",
        "# Casos de teste\n",
        "conjunto1 = [3, 34, 4, 12, 5, 2]\n",
        "soma_alvo1 = 9\n",
        "\n",
        "conjunto2 = [1, 2, 3, 4, 5]\n",
        "soma_alvo2 = 10\n",
        "\n",
        "conjunto3 = [10, 20, 15, 5, 25]\n",
        "soma_alvo3 = 30\n",
        "\n",
        "# Executar os casos de teste\n",
        "resultado1 = subset_sum(conjunto1, soma_alvo1)\n",
        "resultado2 = subset_sum(conjunto2, soma_alvo2)\n",
        "resultado3 = subset_sum(conjunto3, soma_alvo3)\n",
        "\n",
        "print(f\"Subconjuntos que somam {soma_alvo1} no conjunto {conjunto1}: {resultado1}\")\n",
        "print(f\"Subconjuntos que somam {soma_alvo2} no conjunto {conjunto2}: {resultado2}\")\n",
        "print(f\"Subconjuntos que somam {soma_alvo3} no conjunto {conjunto3}: {resultado3}\")"
      ],
      "metadata": {
        "colab": {
          "base_uri": "https://localhost:8080/"
        },
        "id": "LckuT5RdUKF2",
        "outputId": "09a858ca-71c5-4899-f18a-a6cd5f77c37a"
      },
      "execution_count": null,
      "outputs": [
        {
          "output_type": "stream",
          "name": "stdout",
          "text": [
            "Subconjuntos que somam 9 no conjunto [3, 34, 4, 12, 5, 2]: [[3, 4, 2], [4, 5]]\n",
            "Subconjuntos que somam 10 no conjunto [1, 2, 3, 4, 5]: [[1, 2, 3, 4], [1, 4, 5], [2, 3, 5]]\n",
            "Subconjuntos que somam 30 no conjunto [10, 20, 15, 5, 25]: [[10, 20], [10, 15, 5], [5, 25]]\n"
          ]
        }
      ]
    }
  ]
}