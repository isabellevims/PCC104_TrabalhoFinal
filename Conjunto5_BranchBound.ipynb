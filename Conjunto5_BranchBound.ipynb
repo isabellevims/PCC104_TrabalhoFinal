{
  "nbformat": 4,
  "nbformat_minor": 0,
  "metadata": {
    "colab": {
      "provenance": [],
      "authorship_tag": "ABX9TyPgFzM2RyIjW0sdjbG/Qu5s",
      "include_colab_link": true
    },
    "kernelspec": {
      "name": "python3",
      "display_name": "Python 3"
    },
    "language_info": {
      "name": "python"
    }
  },
  "cells": [
    {
      "cell_type": "markdown",
      "metadata": {
        "id": "view-in-github",
        "colab_type": "text"
      },
      "source": [
        "<a href=\"https://colab.research.google.com/github/isabellevims/PCC104_TrabalhoFinal/blob/main/Conjunto5_BranchBound.ipynb\" target=\"_parent\"><img src=\"https://colab.research.google.com/assets/colab-badge.svg\" alt=\"Open In Colab\"/></a>"
      ]
    },
    {
      "cell_type": "markdown",
      "source": [
        "**Instruções**\n",
        "\n",
        "*  Para cada conjunto de algoritmos o aluno deve escolher um.\n",
        "*  O aluno deve criar um repositório público no github com todos os códigos desenvolvidos.\n",
        "*  Em cada implementação o aluno deve:\n",
        "\n",
        "1. Apresentar 3 casos de teste\n",
        "2. Estar preparado para desenvolver a análise de custo\n",
        "3. Estar preparado para responder perguntas sobre o seu próprio código, sobre o algoritmo e sobre o problema que o algoritmo resolve\n",
        "\n",
        "\n",
        "# **Conjunto 5 - Branch and Bound**\n",
        "*Seção 12.2 - Introduction to the Design and Analysis of Algorithms (3rd Edition) by Anany Levitin*\n",
        "1. Implemente um algoritmo baseado em branch and bound para o problema da mochila.\n",
        "2. Implemente um algoritmo baseado em branch and bound para o problema do caixeiro viajante.\n"
      ],
      "metadata": {
        "id": "rv0J-vUmo7VS"
      }
    },
    {
      "cell_type": "markdown",
      "source": [
        "---\n",
        "\n",
        "**Problema da Mochila**\n",
        "\n",
        "\n",
        "---"
      ],
      "metadata": {
        "id": "T_ixEiu0_BDU"
      }
    },
    {
      "cell_type": "code",
      "source": [
        "class Nodo:\n",
        "    def __init__(self, nivel, valor, peso, limite, itens_incluidos):\n",
        "        self.nivel = nivel\n",
        "        self.valor = valor\n",
        "        self.peso = peso\n",
        "        self.limite = limite\n",
        "        self.itens_incluidos = itens_incluidos\n",
        "\n",
        "def calcular_limite(nodo, capacidade, pesos, valores, n):\n",
        "    if nodo.peso >= capacidade:\n",
        "        return 0\n",
        "\n",
        "    limite = nodo.valor\n",
        "    j = nodo.nivel + 1\n",
        "    peso_total = nodo.peso\n",
        "\n",
        "    while j < n and peso_total + pesos[j] <= capacidade:\n",
        "        peso_total += pesos[j]\n",
        "        limite += valores[j]\n",
        "        j += 1\n",
        "\n",
        "    if j < n:\n",
        "        limite += (capacidade - peso_total) * valores[j] / pesos[j]\n",
        "\n",
        "    return limite\n",
        "\n",
        "def mochila_branch_and_bound(pesos, valores, capacidade):\n",
        "    n = len(pesos)\n",
        "    fila = []\n",
        "    nodo_inicial = Nodo(-1, 0, 0, 0.0, [])\n",
        "    nodo_inicial.limite = calcular_limite(nodo_inicial, capacidade, pesos, valores, n)\n",
        "    fila.append(nodo_inicial)\n",
        "    valor_maximo = 0\n",
        "    itens_incluidos = []\n",
        "\n",
        "    while fila:\n",
        "        nodo_atual = fila.pop(0)\n",
        "\n",
        "        if nodo_atual.nivel == -1:\n",
        "            proximo_nivel = 0\n",
        "        elif nodo_atual.nivel == n - 1:\n",
        "            continue\n",
        "        else:\n",
        "            proximo_nivel = nodo_atual.nivel + 1\n",
        "\n",
        "        nodo_incluido = Nodo(proximo_nivel, nodo_atual.valor + valores[proximo_nivel], nodo_atual.peso + pesos[proximo_nivel], 0.0, nodo_atual.itens_incluidos + [proximo_nivel])\n",
        "        nodo_incluido.limite = calcular_limite(nodo_incluido, capacidade, pesos, valores, n)\n",
        "\n",
        "        if nodo_incluido.peso <= capacidade and nodo_incluido.valor > valor_maximo:\n",
        "            valor_maximo = nodo_incluido.valor\n",
        "            itens_incluidos = nodo_incluido.itens_incluidos\n",
        "\n",
        "        if nodo_incluido.limite > valor_maximo:\n",
        "            fila.append(nodo_incluido)\n",
        "\n",
        "        nodo_excluido = Nodo(proximo_nivel, nodo_atual.valor, nodo_atual.peso, 0.0, nodo_atual.itens_incluidos)\n",
        "        nodo_excluido.limite = calcular_limite(nodo_excluido, capacidade, pesos, valores, n)\n",
        "\n",
        "        if nodo_excluido.limite > valor_maximo:\n",
        "            fila.append(nodo_excluido)\n",
        "\n",
        "    return valor_maximo, itens_incluidos\n",
        "\n",
        "# Casos de teste\n",
        "pesos1 = [2, 3, 4, 5]\n",
        "valores1 = [3, 4, 5, 6]\n",
        "capacidade1 = 5\n",
        "\n",
        "pesos2 = [1, 2, 3, 8]\n",
        "valores2 = [20, 5, 10, 40]\n",
        "capacidade2 = 10\n",
        "\n",
        "pesos3 = [10, 20, 30]\n",
        "valores3 = [60, 100, 120]\n",
        "capacidade3 = 50\n",
        "\n",
        "# Executar os casos de teste\n",
        "resultado1 = mochila_branch_and_bound(pesos1, valores1, capacidade1)\n",
        "resultado2 = mochila_branch_and_bound(pesos2, valores2, capacidade2)\n",
        "resultado3 = mochila_branch_and_bound(pesos3, valores3, capacidade3)\n",
        "\n",
        "print(f\"Resultado para o caso 1: Valor máximo = {resultado1[0]}, Itens incluídos = {resultado1[1]}\")\n",
        "print(f\"Resultado para o caso 2: Valor máximo = {resultado2[0]}, Itens incluídos = {resultado2[1]}\")\n",
        "print(f\"Resultado para o caso 3: Valor máximo = {resultado3[0]}, Itens incluídos = {resultado3[1]}\")"
      ],
      "metadata": {
        "colab": {
          "base_uri": "https://localhost:8080/"
        },
        "id": "7tJM8JVdWrFf",
        "outputId": "df59467a-2458-4b12-c31f-ebaf9eb4f8ac"
      },
      "execution_count": null,
      "outputs": [
        {
          "output_type": "stream",
          "name": "stdout",
          "text": [
            "Resultado para o caso 1: Valor máximo = 7, Itens incluídos = [0, 1]\n",
            "Resultado para o caso 2: Valor máximo = 60, Itens incluídos = [0, 3]\n",
            "Resultado para o caso 3: Valor máximo = 220, Itens incluídos = [1, 2]\n"
          ]
        }
      ]
    }
  ]
}