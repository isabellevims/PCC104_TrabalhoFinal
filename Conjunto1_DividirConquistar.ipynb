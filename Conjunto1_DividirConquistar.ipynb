{
  "nbformat": 4,
  "nbformat_minor": 0,
  "metadata": {
    "colab": {
      "provenance": [],
      "authorship_tag": "ABX9TyN+zlOTD1f5lCYRyxjGKAa5",
      "include_colab_link": true
    },
    "kernelspec": {
      "name": "python3",
      "display_name": "Python 3"
    },
    "language_info": {
      "name": "python"
    }
  },
  "cells": [
    {
      "cell_type": "markdown",
      "metadata": {
        "id": "view-in-github",
        "colab_type": "text"
      },
      "source": [
        "<a href=\"https://colab.research.google.com/github/isabellevims/PCC104_TrabalhoFinal/blob/main/Conjunto1_DividirConquistar.ipynb\" target=\"_parent\"><img src=\"https://colab.research.google.com/assets/colab-badge.svg\" alt=\"Open In Colab\"/></a>"
      ]
    },
    {
      "cell_type": "markdown",
      "source": [
        "**Instruções**\n",
        "\n",
        "*  Para cada conjunto de algoritmos o aluno deve escolher um.\n",
        "*  O aluno deve criar um repositório público no github com todos os códigos desenvolvidos.\n",
        "*  Em cada implementação o aluno deve:\n",
        "\n",
        "1. Apresentar 3 casos de teste\n",
        "2. Estar preparado para desenvolver a análise de custo\n",
        "3. Estar preparado para responder perguntas sobre o seu próprio código, sobre o algoritmo e sobre o problema que o algoritmo resolve\n",
        "\n",
        "\n",
        "# **Conjunto 1 - Dividir e Conquistar**\n",
        "*Capítulo 5 - Introduction to the Design and Analysis of Algorithms (3rd Edition) by Anany Levitin*\n",
        "1. Implemente o algoritmo MergeSort.\n",
        "2. Implemente o algoritmo QuickSort.\n",
        "3. Implemete um árvore binária e seus algoritmo de caminhamento:\n",
        "(a) pre-order\n",
        "(b) pos-order\n",
        "(c) in-order\n"
      ],
      "metadata": {
        "id": "AkJ3SRdLnEsu"
      }
    },
    {
      "cell_type": "markdown",
      "source": [
        "\n",
        "\n",
        "---\n",
        "\n",
        "\n",
        "**MergeSort**\n",
        "\n",
        "---\n",
        "\n"
      ],
      "metadata": {
        "id": "6kpiiYsntwkT"
      }
    },
    {
      "cell_type": "code",
      "source": [
        "def merge_sort(array):\n",
        "    if len(array) > 1:\n",
        "        # Encontrar o meio do array\n",
        "        meio = len(array) // 2\n",
        "\n",
        "        # Dividir os elementos em duas metades\n",
        "        metade_esquerda = array[:meio]\n",
        "        metade_direita = array[meio:]\n",
        "\n",
        "        # Ordenar a primeira metade\n",
        "        merge_sort(metade_esquerda)\n",
        "\n",
        "        # Ordenar a segunda metade\n",
        "        merge_sort(metade_direita)\n",
        "\n",
        "        i = j = k = 0\n",
        "\n",
        "        # Copiar dados para arrays temporários metade_esquerda[] e metade_direita[]\n",
        "        while i < len(metade_esquerda) and j < len(metade_direita):\n",
        "            if metade_esquerda[i] < metade_direita[j]:\n",
        "                array[k] = metade_esquerda[i]\n",
        "                i += 1\n",
        "            else:\n",
        "                array[k] = metade_direita[j]\n",
        "                j += 1\n",
        "            k += 1\n",
        "\n",
        "        # Verificar se algum elemento foi deixado\n",
        "        while i < len(metade_esquerda):\n",
        "            array[k] = metade_esquerda[i]\n",
        "            i += 1\n",
        "            k += 1\n",
        "\n",
        "        while j < len(metade_direita):\n",
        "            array[k] = metade_direita[j]\n",
        "            j += 1\n",
        "            k += 1\n",
        "\n",
        "# Casos de teste\n",
        "array1 = [12, 11, 13, 5, 6, 7]\n",
        "array2 = [38, 27, 43, 3, 9, 82, 10]\n",
        "array3 = [1, 4, 3, 2]\n",
        "\n",
        "print(\"Array original:\", array1)\n",
        "merge_sort(array1)\n",
        "print(\"Array ordenado:\", array1)\n",
        "\n",
        "print(\"Array original:\", array2)\n",
        "merge_sort(array2)\n",
        "print(\"Array ordenado:\", array2)\n",
        "\n",
        "print(\"Array original:\", array3)\n",
        "merge_sort(array3)\n",
        "print(\"Array ordenado:\", array3)"
      ],
      "metadata": {
        "colab": {
          "base_uri": "https://localhost:8080/"
        },
        "id": "zgr00Oy_t5Wt",
        "outputId": "0ac2b24b-6897-457d-a9b1-b7f3282ec3e9"
      },
      "execution_count": null,
      "outputs": [
        {
          "output_type": "stream",
          "name": "stdout",
          "text": [
            "Array original: [12, 11, 13, 5, 6, 7]\n",
            "Array ordenado: [5, 6, 7, 11, 12, 13]\n",
            "Array original: [38, 27, 43, 3, 9, 82, 10]\n",
            "Array ordenado: [3, 9, 10, 27, 38, 43, 82]\n",
            "Array original: [1, 4, 3, 2]\n",
            "Array ordenado: [1, 2, 3, 4]\n"
          ]
        }
      ]
    }
  ]
}